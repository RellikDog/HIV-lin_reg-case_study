{
 "nbformat": 4,
 "nbformat_minor": 2,
 "metadata": {
  "language_info": {
   "name": "python",
   "codemirror_mode": {
    "name": "ipython",
    "version": 3
   },
   "version": "3.7.4-final"
  },
  "orig_nbformat": 2,
  "file_extension": ".py",
  "mimetype": "text/x-python",
  "name": "python",
  "npconvert_exporter": "python",
  "pygments_lexer": "ipython3",
  "version": 3,
  "kernelspec": {
   "name": "python3",
   "display_name": "Python 3"
  }
 },
 "cells": [
  {
   "cell_type": "markdown",
   "metadata": {},
   "source": [
    "# Imports"
   ]
  },
  {
   "cell_type": "code",
   "execution_count": 1,
   "metadata": {},
   "outputs": [],
   "source": [
    "import numpy as np \n",
    "import pandas as pd "
   ]
  },
  {
   "cell_type": "code",
   "execution_count": 2,
   "metadata": {},
   "outputs": [],
   "source": [
    "df = pd.read_csv('data/hiv_data.csv')"
   ]
  },
  {
   "cell_type": "code",
   "execution_count": 3,
   "metadata": {},
   "outputs": [
    {
     "output_type": "execute_result",
     "data": {
      "text/plain": "        Unnamed: 0   county_code    YEAR     AMAT_fac  HIVdiagnoses  \\\ncount  3140.000000   3140.000000  3140.0  3140.000000   3140.000000   \nmean   1569.500000  30387.632484  2015.0     0.085669     11.879936   \nstd     906.584249  15156.372045     0.0     0.450816     69.947292   \nmin       0.000000   1001.000000  2015.0     0.000000      0.000000   \n25%     784.750000  18178.500000  2015.0     0.000000      0.000000   \n50%    1569.500000  29176.000000  2015.0     0.000000      0.000000   \n75%    2354.250000  45079.500000  2015.0     0.000000      0.000000   \nmax    3139.000000  56045.000000  2015.0     8.000000   1972.000000   \n\n       HIVincidence  HIVprevalence       MH_fac  Med_AMAT_fac   Med_MH_fac  \\\ncount   3140.000000    3140.000000  3140.000000   3140.000000  3140.000000   \nmean       4.046911     145.400446     3.290127      0.058917     2.934395   \nstd       16.575690     198.488980     8.591740      0.369298     7.401998   \nmin        0.000000       0.000000     0.000000      0.000000     0.000000   \n25%        0.000000      32.950000     0.000000      0.000000     0.000000   \n50%        0.000000      89.000000     1.000000      0.000000     1.000000   \n75%        0.000000     183.775000     3.000000      0.000000     3.000000   \nmax      771.400000    2590.200000   192.000000      5.000000   133.000000   \n\n       ...  pctunmetneed   nonmedpain      ADULTMEN       MSM12MTH  \\\ncount  ...   3139.000000  3139.000000  3.140000e+03    3140.000000   \nmean   ...     88.709994     4.313600  3.676915e+04     927.681210   \nstd    ...      3.226578     0.582708  1.164119e+05    4858.792046   \nmin    ...     77.020000     2.950000  3.400000e+01       0.000000   \n25%    ...     86.480000     3.880000  4.269000e+03      34.000000   \n50%    ...     88.790000     4.320000  9.877500e+03     103.500000   \n75%    ...     90.830000     4.700000  2.533775e+04     351.250000   \nmax    ...    100.000000     5.890000  3.666190e+06  162706.000000   \n\n            MSM5YEAR  %msm12month      %msm5yr  unemployment_rate  \\\ncount    3140.000000  3140.000000  3140.000000        3140.000000   \nmean     1434.076752     1.294020     1.999905           8.552643   \nstd      7511.042900     1.011416     1.564130           3.746800   \nmin         0.000000     0.000000     0.000000           0.000000   \n25%        52.000000     0.560790     0.859203           6.100000   \n50%       160.000000     1.021160     1.579628           8.300000   \n75%       543.000000     1.614168     2.491817          10.700000   \nmax    251521.000000    15.166163    23.444109          29.600000   \n\n       poverty_rate  household_income  \ncount   3140.000000      3.140000e+03  \nmean      16.792452      3.700843e+04  \nstd        6.487101      1.119425e+05  \nmin        1.000000      3.300000e+01  \n25%       12.100000      4.230000e+03  \n50%       16.000000      9.793500e+03  \n75%       20.300000      2.565975e+04  \nmax       47.900000      3.242391e+06  \n\n[8 rows x 37 columns]",
      "text/html": "<div>\n<style scoped>\n    .dataframe tbody tr th:only-of-type {\n        vertical-align: middle;\n    }\n\n    .dataframe tbody tr th {\n        vertical-align: top;\n    }\n\n    .dataframe thead th {\n        text-align: right;\n    }\n</style>\n<table border=\"1\" class=\"dataframe\">\n  <thead>\n    <tr style=\"text-align: right;\">\n      <th></th>\n      <th>Unnamed: 0</th>\n      <th>county_code</th>\n      <th>YEAR</th>\n      <th>AMAT_fac</th>\n      <th>HIVdiagnoses</th>\n      <th>HIVincidence</th>\n      <th>HIVprevalence</th>\n      <th>MH_fac</th>\n      <th>Med_AMAT_fac</th>\n      <th>Med_MH_fac</th>\n      <th>...</th>\n      <th>pctunmetneed</th>\n      <th>nonmedpain</th>\n      <th>ADULTMEN</th>\n      <th>MSM12MTH</th>\n      <th>MSM5YEAR</th>\n      <th>%msm12month</th>\n      <th>%msm5yr</th>\n      <th>unemployment_rate</th>\n      <th>poverty_rate</th>\n      <th>household_income</th>\n    </tr>\n  </thead>\n  <tbody>\n    <tr>\n      <td>count</td>\n      <td>3140.000000</td>\n      <td>3140.000000</td>\n      <td>3140.0</td>\n      <td>3140.000000</td>\n      <td>3140.000000</td>\n      <td>3140.000000</td>\n      <td>3140.000000</td>\n      <td>3140.000000</td>\n      <td>3140.000000</td>\n      <td>3140.000000</td>\n      <td>...</td>\n      <td>3139.000000</td>\n      <td>3139.000000</td>\n      <td>3.140000e+03</td>\n      <td>3140.000000</td>\n      <td>3140.000000</td>\n      <td>3140.000000</td>\n      <td>3140.000000</td>\n      <td>3140.000000</td>\n      <td>3140.000000</td>\n      <td>3.140000e+03</td>\n    </tr>\n    <tr>\n      <td>mean</td>\n      <td>1569.500000</td>\n      <td>30387.632484</td>\n      <td>2015.0</td>\n      <td>0.085669</td>\n      <td>11.879936</td>\n      <td>4.046911</td>\n      <td>145.400446</td>\n      <td>3.290127</td>\n      <td>0.058917</td>\n      <td>2.934395</td>\n      <td>...</td>\n      <td>88.709994</td>\n      <td>4.313600</td>\n      <td>3.676915e+04</td>\n      <td>927.681210</td>\n      <td>1434.076752</td>\n      <td>1.294020</td>\n      <td>1.999905</td>\n      <td>8.552643</td>\n      <td>16.792452</td>\n      <td>3.700843e+04</td>\n    </tr>\n    <tr>\n      <td>std</td>\n      <td>906.584249</td>\n      <td>15156.372045</td>\n      <td>0.0</td>\n      <td>0.450816</td>\n      <td>69.947292</td>\n      <td>16.575690</td>\n      <td>198.488980</td>\n      <td>8.591740</td>\n      <td>0.369298</td>\n      <td>7.401998</td>\n      <td>...</td>\n      <td>3.226578</td>\n      <td>0.582708</td>\n      <td>1.164119e+05</td>\n      <td>4858.792046</td>\n      <td>7511.042900</td>\n      <td>1.011416</td>\n      <td>1.564130</td>\n      <td>3.746800</td>\n      <td>6.487101</td>\n      <td>1.119425e+05</td>\n    </tr>\n    <tr>\n      <td>min</td>\n      <td>0.000000</td>\n      <td>1001.000000</td>\n      <td>2015.0</td>\n      <td>0.000000</td>\n      <td>0.000000</td>\n      <td>0.000000</td>\n      <td>0.000000</td>\n      <td>0.000000</td>\n      <td>0.000000</td>\n      <td>0.000000</td>\n      <td>...</td>\n      <td>77.020000</td>\n      <td>2.950000</td>\n      <td>3.400000e+01</td>\n      <td>0.000000</td>\n      <td>0.000000</td>\n      <td>0.000000</td>\n      <td>0.000000</td>\n      <td>0.000000</td>\n      <td>1.000000</td>\n      <td>3.300000e+01</td>\n    </tr>\n    <tr>\n      <td>25%</td>\n      <td>784.750000</td>\n      <td>18178.500000</td>\n      <td>2015.0</td>\n      <td>0.000000</td>\n      <td>0.000000</td>\n      <td>0.000000</td>\n      <td>32.950000</td>\n      <td>0.000000</td>\n      <td>0.000000</td>\n      <td>0.000000</td>\n      <td>...</td>\n      <td>86.480000</td>\n      <td>3.880000</td>\n      <td>4.269000e+03</td>\n      <td>34.000000</td>\n      <td>52.000000</td>\n      <td>0.560790</td>\n      <td>0.859203</td>\n      <td>6.100000</td>\n      <td>12.100000</td>\n      <td>4.230000e+03</td>\n    </tr>\n    <tr>\n      <td>50%</td>\n      <td>1569.500000</td>\n      <td>29176.000000</td>\n      <td>2015.0</td>\n      <td>0.000000</td>\n      <td>0.000000</td>\n      <td>0.000000</td>\n      <td>89.000000</td>\n      <td>1.000000</td>\n      <td>0.000000</td>\n      <td>1.000000</td>\n      <td>...</td>\n      <td>88.790000</td>\n      <td>4.320000</td>\n      <td>9.877500e+03</td>\n      <td>103.500000</td>\n      <td>160.000000</td>\n      <td>1.021160</td>\n      <td>1.579628</td>\n      <td>8.300000</td>\n      <td>16.000000</td>\n      <td>9.793500e+03</td>\n    </tr>\n    <tr>\n      <td>75%</td>\n      <td>2354.250000</td>\n      <td>45079.500000</td>\n      <td>2015.0</td>\n      <td>0.000000</td>\n      <td>0.000000</td>\n      <td>0.000000</td>\n      <td>183.775000</td>\n      <td>3.000000</td>\n      <td>0.000000</td>\n      <td>3.000000</td>\n      <td>...</td>\n      <td>90.830000</td>\n      <td>4.700000</td>\n      <td>2.533775e+04</td>\n      <td>351.250000</td>\n      <td>543.000000</td>\n      <td>1.614168</td>\n      <td>2.491817</td>\n      <td>10.700000</td>\n      <td>20.300000</td>\n      <td>2.565975e+04</td>\n    </tr>\n    <tr>\n      <td>max</td>\n      <td>3139.000000</td>\n      <td>56045.000000</td>\n      <td>2015.0</td>\n      <td>8.000000</td>\n      <td>1972.000000</td>\n      <td>771.400000</td>\n      <td>2590.200000</td>\n      <td>192.000000</td>\n      <td>5.000000</td>\n      <td>133.000000</td>\n      <td>...</td>\n      <td>100.000000</td>\n      <td>5.890000</td>\n      <td>3.666190e+06</td>\n      <td>162706.000000</td>\n      <td>251521.000000</td>\n      <td>15.166163</td>\n      <td>23.444109</td>\n      <td>29.600000</td>\n      <td>47.900000</td>\n      <td>3.242391e+06</td>\n    </tr>\n  </tbody>\n</table>\n<p>8 rows × 37 columns</p>\n</div>"
     },
     "metadata": {},
     "execution_count": 3
    }
   ],
   "source": [
    "df. describe()"
   ]
  },
  {
   "cell_type": "code",
   "execution_count": 4,
   "metadata": {},
   "outputs": [
    {
     "output_type": "stream",
     "name": "stdout",
     "text": "<class 'pandas.core.frame.DataFrame'>\nRangeIndex: 3140 entries, 0 to 3139\nData columns (total 39 columns):\nUnnamed: 0           3140 non-null int64\ncounty_code          3140 non-null int64\nCOUNTY               3140 non-null object\nSTATEABBREVIATION    3140 non-null object\nYEAR                 3140 non-null int64\nAMAT_fac             3140 non-null float64\nHIVdiagnoses         3140 non-null float64\nHIVincidence         3140 non-null float64\nHIVprevalence        3140 non-null float64\nMH_fac               3140 non-null float64\nMed_AMAT_fac         3140 non-null float64\nMed_MH_fac           3140 non-null float64\nMed_SA_fac           3140 non-null float64\nMed_SMAT_fac         3140 non-null float64\nMed_TMAT_fac         3140 non-null float64\nPLHIV                3140 non-null float64\nPopulation           3140 non-null float64\nSA_fac               3140 non-null float64\nSMAT_fac             3140 non-null float64\nTMAT_fac             3140 non-null float64\ndrugdeathrate        3140 non-null float64\ndrugdeathrate_est    3140 non-null float64\ndrugdeaths           3140 non-null float64\nmme_percap           2963 non-null float64\npartD30dayrxrate     3046 non-null float64\npctunins             3140 non-null float64\nnum_SSPs             3140 non-null float64\nbup_phys             3140 non-null float64\ndrugdep              3139 non-null float64\npctunmetneed         3139 non-null float64\nnonmedpain           3139 non-null float64\nADULTMEN             3140 non-null int64\nMSM12MTH             3140 non-null int64\nMSM5YEAR             3140 non-null int64\n%msm12month          3140 non-null float64\n%msm5yr              3140 non-null float64\nunemployment_rate    3140 non-null float64\npoverty_rate         3140 non-null float64\nhousehold_income     3140 non-null int64\ndtypes: float64(30), int64(7), object(2)\nmemory usage: 956.8+ KB\n"
    }
   ],
   "source": [
    "df.info()"
   ]
  },
  {
   "cell_type": "code",
   "execution_count": 5,
   "metadata": {},
   "outputs": [
    {
     "output_type": "execute_result",
     "data": {
      "text/plain": "   Unnamed: 0  county_code          COUNTY STATEABBREVIATION  YEAR  AMAT_fac  \\\n0           0         1001  Autauga County                AL  2015       0.0   \n1           1         1003  Baldwin County                AL  2015       0.0   \n2           2         1005  Barbour County                AL  2015       0.0   \n3           3         1007     Bibb County                AL  2015       0.0   \n4           4         1009   Blount County                AL  2015       0.0   \n\n   HIVdiagnoses  HIVincidence  HIVprevalence  MH_fac  ...  pctunmetneed  \\\n0           5.0          10.9          225.5     1.0  ...         95.70   \n1          15.0           8.7          163.9     4.0  ...         91.34   \n2           0.0           0.0          436.0     1.0  ...         91.34   \n3           0.0           0.0          191.9     0.0  ...         91.86   \n4           5.0          10.4           95.4     1.0  ...         91.86   \n\n   nonmedpain  ADULTMEN  MSM12MTH  MSM5YEAR  %msm12month   %msm5yr  \\\n0        5.12     19410       333       514     1.715611  2.648120   \n1        5.27     69724       925      1429     1.326659  2.049509   \n2        5.27     11567        82       127     0.708913  1.097951   \n3        5.62      9508       119       184     1.251578  1.935212   \n4        5.62     21368       601       928     2.812617  4.342943   \n\n   unemployment_rate  poverty_rate  household_income  \n0                8.5          12.8             20304  \n1                8.6          13.8             73058  \n2               14.2          24.1              9145  \n3               10.9          17.0              7078  \n4                9.3          17.3             20934  \n\n[5 rows x 39 columns]",
      "text/html": "<div>\n<style scoped>\n    .dataframe tbody tr th:only-of-type {\n        vertical-align: middle;\n    }\n\n    .dataframe tbody tr th {\n        vertical-align: top;\n    }\n\n    .dataframe thead th {\n        text-align: right;\n    }\n</style>\n<table border=\"1\" class=\"dataframe\">\n  <thead>\n    <tr style=\"text-align: right;\">\n      <th></th>\n      <th>Unnamed: 0</th>\n      <th>county_code</th>\n      <th>COUNTY</th>\n      <th>STATEABBREVIATION</th>\n      <th>YEAR</th>\n      <th>AMAT_fac</th>\n      <th>HIVdiagnoses</th>\n      <th>HIVincidence</th>\n      <th>HIVprevalence</th>\n      <th>MH_fac</th>\n      <th>...</th>\n      <th>pctunmetneed</th>\n      <th>nonmedpain</th>\n      <th>ADULTMEN</th>\n      <th>MSM12MTH</th>\n      <th>MSM5YEAR</th>\n      <th>%msm12month</th>\n      <th>%msm5yr</th>\n      <th>unemployment_rate</th>\n      <th>poverty_rate</th>\n      <th>household_income</th>\n    </tr>\n  </thead>\n  <tbody>\n    <tr>\n      <td>0</td>\n      <td>0</td>\n      <td>1001</td>\n      <td>Autauga County</td>\n      <td>AL</td>\n      <td>2015</td>\n      <td>0.0</td>\n      <td>5.0</td>\n      <td>10.9</td>\n      <td>225.5</td>\n      <td>1.0</td>\n      <td>...</td>\n      <td>95.70</td>\n      <td>5.12</td>\n      <td>19410</td>\n      <td>333</td>\n      <td>514</td>\n      <td>1.715611</td>\n      <td>2.648120</td>\n      <td>8.5</td>\n      <td>12.8</td>\n      <td>20304</td>\n    </tr>\n    <tr>\n      <td>1</td>\n      <td>1</td>\n      <td>1003</td>\n      <td>Baldwin County</td>\n      <td>AL</td>\n      <td>2015</td>\n      <td>0.0</td>\n      <td>15.0</td>\n      <td>8.7</td>\n      <td>163.9</td>\n      <td>4.0</td>\n      <td>...</td>\n      <td>91.34</td>\n      <td>5.27</td>\n      <td>69724</td>\n      <td>925</td>\n      <td>1429</td>\n      <td>1.326659</td>\n      <td>2.049509</td>\n      <td>8.6</td>\n      <td>13.8</td>\n      <td>73058</td>\n    </tr>\n    <tr>\n      <td>2</td>\n      <td>2</td>\n      <td>1005</td>\n      <td>Barbour County</td>\n      <td>AL</td>\n      <td>2015</td>\n      <td>0.0</td>\n      <td>0.0</td>\n      <td>0.0</td>\n      <td>436.0</td>\n      <td>1.0</td>\n      <td>...</td>\n      <td>91.34</td>\n      <td>5.27</td>\n      <td>11567</td>\n      <td>82</td>\n      <td>127</td>\n      <td>0.708913</td>\n      <td>1.097951</td>\n      <td>14.2</td>\n      <td>24.1</td>\n      <td>9145</td>\n    </tr>\n    <tr>\n      <td>3</td>\n      <td>3</td>\n      <td>1007</td>\n      <td>Bibb County</td>\n      <td>AL</td>\n      <td>2015</td>\n      <td>0.0</td>\n      <td>0.0</td>\n      <td>0.0</td>\n      <td>191.9</td>\n      <td>0.0</td>\n      <td>...</td>\n      <td>91.86</td>\n      <td>5.62</td>\n      <td>9508</td>\n      <td>119</td>\n      <td>184</td>\n      <td>1.251578</td>\n      <td>1.935212</td>\n      <td>10.9</td>\n      <td>17.0</td>\n      <td>7078</td>\n    </tr>\n    <tr>\n      <td>4</td>\n      <td>4</td>\n      <td>1009</td>\n      <td>Blount County</td>\n      <td>AL</td>\n      <td>2015</td>\n      <td>0.0</td>\n      <td>5.0</td>\n      <td>10.4</td>\n      <td>95.4</td>\n      <td>1.0</td>\n      <td>...</td>\n      <td>91.86</td>\n      <td>5.62</td>\n      <td>21368</td>\n      <td>601</td>\n      <td>928</td>\n      <td>2.812617</td>\n      <td>4.342943</td>\n      <td>9.3</td>\n      <td>17.3</td>\n      <td>20934</td>\n    </tr>\n  </tbody>\n</table>\n<p>5 rows × 39 columns</p>\n</div>"
     },
     "metadata": {},
     "execution_count": 5
    }
   ],
   "source": [
    "df.head()"
   ]
  },
  {
   "cell_type": "code",
   "execution_count": 6,
   "metadata": {},
   "outputs": [
    {
     "output_type": "execute_result",
     "data": {
      "text/plain": "      Unnamed: 0  county_code             COUNTY STATEABBREVIATION  YEAR  \\\n3135        3135        56037  Sweetwater County                WY  2015   \n3136        3136        56039       Teton County                WY  2015   \n3137        3137        56041       Uinta County                WY  2015   \n3138        3138        56043    Washakie County                WY  2015   \n3139        3139        56045      Weston County                WY  2015   \n\n      AMAT_fac  HIVdiagnoses  HIVincidence  HIVprevalence  MH_fac  ...  \\\n3135       0.0           0.0           0.0           86.5     3.0  ...   \n3136       0.0           0.0           0.0           50.5     2.0  ...   \n3137       0.0           0.0           0.0            0.0     4.0  ...   \n3138       0.0           0.0           0.0            0.0     1.0  ...   \n3139       0.0           0.0           0.0            0.0     1.0  ...   \n\n      pctunmetneed  nonmedpain  ADULTMEN  MSM12MTH  MSM5YEAR  %msm12month  \\\n3135         87.02        3.38     16941       177       274     1.044803   \n3136         89.16        3.42      9172        50        78     0.545137   \n3137         87.02        3.38      7401        75       116     1.013377   \n3138         86.12        3.26      3141        17        27     0.541229   \n3139         88.36        3.73      2958        16        25     0.540906   \n\n       %msm5yr  unemployment_rate  poverty_rate  household_income  \n3135  1.617378                5.6          12.2             16687  \n3136  0.850414                3.6           8.5              7873  \n3137  1.567356                5.8          14.2              7557  \n3138  0.859599                7.9          14.2              3461  \n3139  0.845166                3.6          12.4              2996  \n\n[5 rows x 39 columns]",
      "text/html": "<div>\n<style scoped>\n    .dataframe tbody tr th:only-of-type {\n        vertical-align: middle;\n    }\n\n    .dataframe tbody tr th {\n        vertical-align: top;\n    }\n\n    .dataframe thead th {\n        text-align: right;\n    }\n</style>\n<table border=\"1\" class=\"dataframe\">\n  <thead>\n    <tr style=\"text-align: right;\">\n      <th></th>\n      <th>Unnamed: 0</th>\n      <th>county_code</th>\n      <th>COUNTY</th>\n      <th>STATEABBREVIATION</th>\n      <th>YEAR</th>\n      <th>AMAT_fac</th>\n      <th>HIVdiagnoses</th>\n      <th>HIVincidence</th>\n      <th>HIVprevalence</th>\n      <th>MH_fac</th>\n      <th>...</th>\n      <th>pctunmetneed</th>\n      <th>nonmedpain</th>\n      <th>ADULTMEN</th>\n      <th>MSM12MTH</th>\n      <th>MSM5YEAR</th>\n      <th>%msm12month</th>\n      <th>%msm5yr</th>\n      <th>unemployment_rate</th>\n      <th>poverty_rate</th>\n      <th>household_income</th>\n    </tr>\n  </thead>\n  <tbody>\n    <tr>\n      <td>3135</td>\n      <td>3135</td>\n      <td>56037</td>\n      <td>Sweetwater County</td>\n      <td>WY</td>\n      <td>2015</td>\n      <td>0.0</td>\n      <td>0.0</td>\n      <td>0.0</td>\n      <td>86.5</td>\n      <td>3.0</td>\n      <td>...</td>\n      <td>87.02</td>\n      <td>3.38</td>\n      <td>16941</td>\n      <td>177</td>\n      <td>274</td>\n      <td>1.044803</td>\n      <td>1.617378</td>\n      <td>5.6</td>\n      <td>12.2</td>\n      <td>16687</td>\n    </tr>\n    <tr>\n      <td>3136</td>\n      <td>3136</td>\n      <td>56039</td>\n      <td>Teton County</td>\n      <td>WY</td>\n      <td>2015</td>\n      <td>0.0</td>\n      <td>0.0</td>\n      <td>0.0</td>\n      <td>50.5</td>\n      <td>2.0</td>\n      <td>...</td>\n      <td>89.16</td>\n      <td>3.42</td>\n      <td>9172</td>\n      <td>50</td>\n      <td>78</td>\n      <td>0.545137</td>\n      <td>0.850414</td>\n      <td>3.6</td>\n      <td>8.5</td>\n      <td>7873</td>\n    </tr>\n    <tr>\n      <td>3137</td>\n      <td>3137</td>\n      <td>56041</td>\n      <td>Uinta County</td>\n      <td>WY</td>\n      <td>2015</td>\n      <td>0.0</td>\n      <td>0.0</td>\n      <td>0.0</td>\n      <td>0.0</td>\n      <td>4.0</td>\n      <td>...</td>\n      <td>87.02</td>\n      <td>3.38</td>\n      <td>7401</td>\n      <td>75</td>\n      <td>116</td>\n      <td>1.013377</td>\n      <td>1.567356</td>\n      <td>5.8</td>\n      <td>14.2</td>\n      <td>7557</td>\n    </tr>\n    <tr>\n      <td>3138</td>\n      <td>3138</td>\n      <td>56043</td>\n      <td>Washakie County</td>\n      <td>WY</td>\n      <td>2015</td>\n      <td>0.0</td>\n      <td>0.0</td>\n      <td>0.0</td>\n      <td>0.0</td>\n      <td>1.0</td>\n      <td>...</td>\n      <td>86.12</td>\n      <td>3.26</td>\n      <td>3141</td>\n      <td>17</td>\n      <td>27</td>\n      <td>0.541229</td>\n      <td>0.859599</td>\n      <td>7.9</td>\n      <td>14.2</td>\n      <td>3461</td>\n    </tr>\n    <tr>\n      <td>3139</td>\n      <td>3139</td>\n      <td>56045</td>\n      <td>Weston County</td>\n      <td>WY</td>\n      <td>2015</td>\n      <td>0.0</td>\n      <td>0.0</td>\n      <td>0.0</td>\n      <td>0.0</td>\n      <td>1.0</td>\n      <td>...</td>\n      <td>88.36</td>\n      <td>3.73</td>\n      <td>2958</td>\n      <td>16</td>\n      <td>25</td>\n      <td>0.540906</td>\n      <td>0.845166</td>\n      <td>3.6</td>\n      <td>12.4</td>\n      <td>2996</td>\n    </tr>\n  </tbody>\n</table>\n<p>5 rows × 39 columns</p>\n</div>"
     },
     "metadata": {},
     "execution_count": 6
    }
   ],
   "source": [
    "df.tail()"
   ]
  },
  {
   "cell_type": "code",
   "execution_count": 7,
   "metadata": {},
   "outputs": [
    {
     "output_type": "execute_result",
     "data": {
      "text/plain": "array([2015])"
     },
     "metadata": {},
     "execution_count": 7
    }
   ],
   "source": [
    "df['YEAR'].unique()"
   ]
  },
  {
   "cell_type": "code",
   "execution_count": null,
   "metadata": {},
   "outputs": [],
   "source": []
  }
 ]
}